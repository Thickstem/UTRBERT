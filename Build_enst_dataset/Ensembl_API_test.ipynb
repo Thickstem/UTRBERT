{
 "cells": [
  {
   "cell_type": "code",
   "execution_count": 2,
   "metadata": {},
   "outputs": [],
   "source": [
    "import pandas as pd\n",
    "from Bio import SeqIO\n",
    "import numpy as np\n",
    "import matplotlib.pyplot as plt\n",
    "import matplotlib as mpl\n",
    "mpl.rcParams[\"figure.dpi\"]=300\n",
    "import seaborn as sns\n",
    "sns.set(style=\"darkgrid\", palette=\"muted\", color_codes=True)"
   ]
  },
  {
   "cell_type": "code",
   "execution_count": 2,
   "metadata": {},
   "outputs": [],
   "source": [
    "utr_df = pd.read_csv(\"data/homo_sapience_utr.csv\",index_col=0)"
   ]
  },
  {
   "cell_type": "code",
   "execution_count": 1,
   "metadata": {},
   "outputs": [],
   "source": [
    "trans = \"ENST00000614911\""
   ]
  },
  {
   "cell_type": "code",
   "execution_count": 7,
   "metadata": {},
   "outputs": [
    {
     "ename": "NameError",
     "evalue": "name 'utr_df' is not defined",
     "output_type": "error",
     "traceback": [
      "\u001b[0;31m---------------------------------------------------------------------------\u001b[0m",
      "\u001b[0;31mNameError\u001b[0m                                 Traceback (most recent call last)",
      "\u001b[1;32mセル4 を /home/ksuga/UTRBERT/ensemble_parse.ipynb\u001b[0m in \u001b[0;36m<cell line: 1>\u001b[0;34m()\u001b[0m\n\u001b[0;32m----> <a href='vscode-notebook-cell://ssh-remote%2Bamed/home/ksuga/UTRBERT/ensemble_parse.ipynb#W3sdnNjb2RlLXJlbW90ZQ%3D%3D?line=0'>1</a>\u001b[0m target \u001b[39m=\u001b[39m utr_df[utr_df[\u001b[39m\"\u001b[39m\u001b[39mTranscript\u001b[39m\u001b[39m\"\u001b[39m]\u001b[39m==\u001b[39mtrans]\n\u001b[1;32m      <a href='vscode-notebook-cell://ssh-remote%2Bamed/home/ksuga/UTRBERT/ensemble_parse.ipynb#W3sdnNjb2RlLXJlbW90ZQ%3D%3D?line=1'>2</a>\u001b[0m \u001b[39mfor\u001b[39;00m i \u001b[39min\u001b[39;00m \u001b[39mrange\u001b[39m(target\u001b[39m.\u001b[39mshape[\u001b[39m0\u001b[39m]):\n\u001b[1;32m      <a href='vscode-notebook-cell://ssh-remote%2Bamed/home/ksuga/UTRBERT/ensemble_parse.ipynb#W3sdnNjb2RlLXJlbW90ZQ%3D%3D?line=2'>3</a>\u001b[0m     seq \u001b[39m=\u001b[39m target\u001b[39m.\u001b[39miloc[i][\u001b[39m\"\u001b[39m\u001b[39mseq\u001b[39m\u001b[39m\"\u001b[39m]\n",
      "\u001b[0;31mNameError\u001b[0m: name 'utr_df' is not defined"
     ]
    }
   ],
   "source": [
    "target = utr_df[utr_df[\"Transcript\"]==trans]\n",
    "for i in range(target.shape[0]):\n",
    "    seq = target.iloc[i][\"seq\"]\n",
    "    print(target.iloc[i][\"UTR\"])\n",
    "    print(seq)"
   ]
  },
  {
   "cell_type": "code",
   "execution_count": 3,
   "metadata": {},
   "outputs": [],
   "source": [
    "import requests, sys\n",
    " \n",
    "server = \"https://rest.ensembl.org\"\n",
    "ext_cds = f\"/sequence/id/{trans}?type=cds\"\n",
    "ext_cdna = f\"/sequence/id/{trans}?type=cdna\"\n",
    "\n",
    "r_cds = requests.get(server+ext_cds, headers={ \"Content-Type\" : \"text/x-fasta\"})\n",
    "r_cdna =  requests.get(server+ext_cdna, headers={ \"Content-Type\" : \"text/x-fasta\"})\n",
    "  \n",
    "cds = \"\".join(r_cds.text.split(\"\\n\")[1:-1])\n",
    "cdna = \"\".join(r_cdna.text.split(\"\\n\")[1:-1])\n"
   ]
  },
  {
   "cell_type": "code",
   "execution_count": 4,
   "metadata": {},
   "outputs": [
    {
     "data": {
      "text/plain": [
       "'ATGGCGCGTACTAAGCAGACGGCTCGTAAATCCACAGGCGGTAAAGCACCGCGCAAACAGCTGGCCACTAAGGCAGCTCGCAAGAGCGCTCCGGCCACGGGCGGCGTGAAGAAGCCCCATCGCTACCGCCCTGGCACCGTGGCTCTGCGCGAGATCCGTCGCTACCAGAAGTCTACCGAGCTTCTAATCCGGAAGCTGCCGTTTCAGCGCCTGGTGCGAGAAATAGCTCAGGACTTCAAGACCGACCTGCGCTTCCAGAGTTCCGCGGTGATGGCGCTGCAGGAGGCCTGCGAGGCCTACTTGGTGGGGCTTTTCGAGGACACCAACCTGTGCGCTATTCATGCCAAACGCGTGACCATCATGCCTAAAGACATCCAGCTTGCCCGCCGCATTCGTGGGGAGAGGGCGTGA'"
      ]
     },
     "execution_count": 4,
     "metadata": {},
     "output_type": "execute_result"
    }
   ],
   "source": []
  },
  {
   "cell_type": "code",
   "execution_count": 7,
   "metadata": {},
   "outputs": [],
   "source": [
    "start = cdna.find(cds)\n",
    "fiveprime = cdna[:start]\n",
    "threeprime = cdna[start+len(cds):]"
   ]
  },
  {
   "cell_type": "code",
   "execution_count": 5,
   "metadata": {},
   "outputs": [],
   "source": [
    "with open(\"test_seq.txt\",\"r\") as f:\n",
    "    seqs = f.readlines()\n"
   ]
  },
  {
   "cell_type": "code",
   "execution_count": 13,
   "metadata": {},
   "outputs": [
    {
     "name": "stdout",
     "output_type": "stream",
     "text": [
      "\n",
      "\n"
     ]
    }
   ],
   "source": [
    "print(seqs[0][-1])"
   ]
  },
  {
   "cell_type": "code",
   "execution_count": 9,
   "metadata": {},
   "outputs": [
    {
     "name": "stdout",
     "output_type": "stream",
     "text": [
      "941 GGCGGACTGCGGCGCACTTCCGTAGAGGTGGACATGGCGTGCGGCTTTCGCCGCGCTATTGCTTGCCAGGTATGGATCCCGGAGCGCGCAGAGGAGTCCCTGAGGAGCTAGGGACCCCAAAGGCCTTTCACCGCTGCGGGCCAGTCCTCAGTCAGCTGGAGGGTGGGTCCCACGGAATCCTGTTAGTTTCTACCACCTCCTCCCCCTTCTCTGGAGCTGGTGGAGCTTCAGAAGTCCTGTGGAGCGTCGGCTGGGATCAGTTTGTCTCGGTGAAAAGTAAACTTTGAAAGCTTTCCAGAGTGTTGAATCTTCCACCAGAAAACTTGATCACATCAATATCTGCAGTTCCAATTTCCCAAAAAGAAGAAGTAGCTGATTTTCAGCTTTCTGTGGATTCTTTATTGGAAAAAGACAATGACCATTCAAGACCAGATATTCAAGTTCAAGCCAAGAGACTAGCAGAGAAGCTAAGATGTGATACAGTGGTGAGTGAAATCAGTACTGGTCAAAGGACTGTAAATTTCAAAATAAACAGAGAGCTCTTAACAAAGACAGTGCTACAACAAGTAATTGAAGATGGCTCAAAATATGGATTAAAAAGTGAACTTTTCTCTGGACTTCCCCAGAAGAAGATTGTGGTTGAATTCAGGGTAGCAAGACCTCTTTACAAAGGTACTCAAGGCTCTAAGATAGTGAAATCATCTAGTCTTGAAACAGGCACAGCATCATTTTTGTCACTTTCTGCTGATGAAAGCAAGTCACAAGATCACCCCAGATTCAAGGGAAGAAAAATAGAGTACATCTCTTAATGTTCACCTAATGTTGCCAAAAAATTTCATGTTGGACATTTGCGTTCTACCATCATAGGAAATTTTATAGCAAATCTCAAAGAAGCTTTAGGACATCAAGTAATAAGAATAAATTACCTTGGCGATTGGGGC AGATCATGGGATATGACTGGGCAGAAAGGTGCCAGCACGTGCCCTTTGGAGTAGTACAGGGAATGAAGACTCGAAGAGGAGATGTCACTTTCCTGGAAGATGTTTTAAATGAGATTCAATTAAGGATGCTACAGAACATGGCTTCAATTAAGACAACTAAAGAACTCAAGAACCCACAAGAGACTGCAGAGAGGGTCGGGCTCGCAGCACTCATTATTCAGGACTTCAAAGGTTTACTCTTATCTGACTACAAGTTCAGCTGGGATCGTGTTTTCCAGAGTCGCGGGGACACAGGAGTCTTCCTACAGTACACACACGCCCGCCTCCACAGTTTGGAAGAGACTTTTGGATGTGGGTACCTGAATGACTTCAACACTGCTTGTTTACAAGAGCCACAGTCTGTTTCAATTCTTCAGCATCTTCTCAGGTTCGACGAGGTGCTTTATAAATCATCTCAGGACTTTCAACCCAGGCATATCGTCAGTTACCTTCTAACTTTAAGTCATCTTGCAGCTGTGGCACACAAAACACTACAAATAAAAGATAGTCCTCCTGAAGTGGCTGGGGCCAGACTTCATCTTTTCAAAGCTGTCCGTTCTGTCCTAGCCAATGGAATGAAACTTCTTGGAATAACACCTGTATGT\n"
     ]
    }
   ],
   "source": [
    "print(start,fiveprime,threeprime)"
   ]
  },
  {
   "cell_type": "code",
   "execution_count": 27,
   "metadata": {},
   "outputs": [
    {
     "data": {
      "text/plain": [
       "True"
      ]
     },
     "execution_count": 27,
     "metadata": {},
     "output_type": "execute_result"
    }
   ],
   "source": [
    "fiveprime+cds+threeprime == cdna"
   ]
  },
  {
   "cell_type": "code",
   "execution_count": 34,
   "metadata": {},
   "outputs": [
    {
     "ename": "ValueError",
     "evalue": "('Lengths must match to compare', (374705,), (106207,))",
     "output_type": "error",
     "traceback": [
      "\u001b[0;31m---------------------------------------------------------------------------\u001b[0m",
      "\u001b[0;31mValueError\u001b[0m                                Traceback (most recent call last)",
      "\u001b[1;32mセル9 を /home/ksuga/UTRBERT/ensemble_parse.ipynb\u001b[0m in \u001b[0;36m<cell line: 2>\u001b[0;34m()\u001b[0m\n\u001b[1;32m      <a href='vscode-notebook-cell://ssh-remote%2Bamed/home/ksuga/UTRBERT/ensemble_parse.ipynb#W5sdnNjb2RlLXJlbW90ZQ%3D%3D?line=0'>1</a>\u001b[0m uni_trans\u001b[39m=\u001b[39mnp\u001b[39m.\u001b[39munique(utr_df[\u001b[39m\"\u001b[39m\u001b[39mTranscript\u001b[39m\u001b[39m\"\u001b[39m])\n\u001b[0;32m----> <a href='vscode-notebook-cell://ssh-remote%2Bamed/home/ksuga/UTRBERT/ensemble_parse.ipynb#W5sdnNjb2RlLXJlbW90ZQ%3D%3D?line=1'>2</a>\u001b[0m genes \u001b[39m=\u001b[39m utr_df[utr_df[\u001b[39m\"\u001b[39;49m\u001b[39mTranscript\u001b[39;49m\u001b[39m\"\u001b[39;49m]\u001b[39m==\u001b[39;49muni_trans][\u001b[39m\"\u001b[39m\u001b[39mgene\u001b[39m\u001b[39m\"\u001b[39m]\n\u001b[1;32m      <a href='vscode-notebook-cell://ssh-remote%2Bamed/home/ksuga/UTRBERT/ensemble_parse.ipynb#W5sdnNjb2RlLXJlbW90ZQ%3D%3D?line=2'>3</a>\u001b[0m \u001b[39mprint\u001b[39m(\u001b[39mlen\u001b[39m(genes))\n",
      "File \u001b[0;32m~/anaconda3/lib/python3.9/site-packages/pandas/core/ops/common.py:70\u001b[0m, in \u001b[0;36m_unpack_zerodim_and_defer.<locals>.new_method\u001b[0;34m(self, other)\u001b[0m\n\u001b[1;32m     66\u001b[0m             \u001b[39mreturn\u001b[39;00m \u001b[39mNotImplemented\u001b[39m\n\u001b[1;32m     68\u001b[0m other \u001b[39m=\u001b[39m item_from_zerodim(other)\n\u001b[0;32m---> 70\u001b[0m \u001b[39mreturn\u001b[39;00m method(\u001b[39mself\u001b[39;49m, other)\n",
      "File \u001b[0;32m~/anaconda3/lib/python3.9/site-packages/pandas/core/arraylike.py:40\u001b[0m, in \u001b[0;36mOpsMixin.__eq__\u001b[0;34m(self, other)\u001b[0m\n\u001b[1;32m     38\u001b[0m \u001b[39m@unpack_zerodim_and_defer\u001b[39m(\u001b[39m\"\u001b[39m\u001b[39m__eq__\u001b[39m\u001b[39m\"\u001b[39m)\n\u001b[1;32m     39\u001b[0m \u001b[39mdef\u001b[39;00m \u001b[39m__eq__\u001b[39m(\u001b[39mself\u001b[39m, other):\n\u001b[0;32m---> 40\u001b[0m     \u001b[39mreturn\u001b[39;00m \u001b[39mself\u001b[39;49m\u001b[39m.\u001b[39;49m_cmp_method(other, operator\u001b[39m.\u001b[39;49meq)\n",
      "File \u001b[0;32m~/anaconda3/lib/python3.9/site-packages/pandas/core/series.py:5623\u001b[0m, in \u001b[0;36mSeries._cmp_method\u001b[0;34m(self, other, op)\u001b[0m\n\u001b[1;32m   5620\u001b[0m rvalues \u001b[39m=\u001b[39m extract_array(other, extract_numpy\u001b[39m=\u001b[39m\u001b[39mTrue\u001b[39;00m, extract_range\u001b[39m=\u001b[39m\u001b[39mTrue\u001b[39;00m)\n\u001b[1;32m   5622\u001b[0m \u001b[39mwith\u001b[39;00m np\u001b[39m.\u001b[39merrstate(\u001b[39mall\u001b[39m\u001b[39m=\u001b[39m\u001b[39m\"\u001b[39m\u001b[39mignore\u001b[39m\u001b[39m\"\u001b[39m):\n\u001b[0;32m-> 5623\u001b[0m     res_values \u001b[39m=\u001b[39m ops\u001b[39m.\u001b[39;49mcomparison_op(lvalues, rvalues, op)\n\u001b[1;32m   5625\u001b[0m \u001b[39mreturn\u001b[39;00m \u001b[39mself\u001b[39m\u001b[39m.\u001b[39m_construct_result(res_values, name\u001b[39m=\u001b[39mres_name)\n",
      "File \u001b[0;32m~/anaconda3/lib/python3.9/site-packages/pandas/core/ops/array_ops.py:260\u001b[0m, in \u001b[0;36mcomparison_op\u001b[0;34m(left, right, op)\u001b[0m\n\u001b[1;32m    255\u001b[0m \u001b[39mif\u001b[39;00m \u001b[39misinstance\u001b[39m(rvalues, (np\u001b[39m.\u001b[39mndarray, ABCExtensionArray)):\n\u001b[1;32m    256\u001b[0m     \u001b[39m# TODO: make this treatment consistent across ops and classes.\u001b[39;00m\n\u001b[1;32m    257\u001b[0m     \u001b[39m#  We are not catching all listlikes here (e.g. frozenset, tuple)\u001b[39;00m\n\u001b[1;32m    258\u001b[0m     \u001b[39m#  The ambiguous case is object-dtype.  See GH#27803\u001b[39;00m\n\u001b[1;32m    259\u001b[0m     \u001b[39mif\u001b[39;00m \u001b[39mlen\u001b[39m(lvalues) \u001b[39m!=\u001b[39m \u001b[39mlen\u001b[39m(rvalues):\n\u001b[0;32m--> 260\u001b[0m         \u001b[39mraise\u001b[39;00m \u001b[39mValueError\u001b[39;00m(\n\u001b[1;32m    261\u001b[0m             \u001b[39m\"\u001b[39m\u001b[39mLengths must match to compare\u001b[39m\u001b[39m\"\u001b[39m, lvalues\u001b[39m.\u001b[39mshape, rvalues\u001b[39m.\u001b[39mshape\n\u001b[1;32m    262\u001b[0m         )\n\u001b[1;32m    264\u001b[0m \u001b[39mif\u001b[39;00m should_extension_dispatch(lvalues, rvalues) \u001b[39mor\u001b[39;00m (\n\u001b[1;32m    265\u001b[0m     (\u001b[39misinstance\u001b[39m(rvalues, (Timedelta, BaseOffset, Timestamp)) \u001b[39mor\u001b[39;00m right \u001b[39mis\u001b[39;00m NaT)\n\u001b[1;32m    266\u001b[0m     \u001b[39mand\u001b[39;00m \u001b[39mnot\u001b[39;00m is_object_dtype(lvalues\u001b[39m.\u001b[39mdtype)\n\u001b[1;32m    267\u001b[0m ):\n\u001b[1;32m    268\u001b[0m     \u001b[39m# Call the method on lvalues\u001b[39;00m\n\u001b[1;32m    269\u001b[0m     res_values \u001b[39m=\u001b[39m op(lvalues, rvalues)\n",
      "\u001b[0;31mValueError\u001b[0m: ('Lengths must match to compare', (374705,), (106207,))"
     ]
    }
   ],
   "source": [
    "uni_trans=np.unique(utr_df[\"Transcript\"])\n",
    "genes = utr_df[utr_df[\"Transcript\"]==uni_trans][\"gene\"]\n",
    "\n"
   ]
  },
  {
   "cell_type": "code",
   "execution_count": null,
   "metadata": {},
   "outputs": [],
   "source": []
  },
  {
   "cell_type": "code",
   "execution_count": 37,
   "metadata": {},
   "outputs": [
    {
     "data": {
      "text/html": [
       "<div>\n",
       "<style scoped>\n",
       "    .dataframe tbody tr th:only-of-type {\n",
       "        vertical-align: middle;\n",
       "    }\n",
       "\n",
       "    .dataframe tbody tr th {\n",
       "        vertical-align: top;\n",
       "    }\n",
       "\n",
       "    .dataframe thead th {\n",
       "        text-align: right;\n",
       "    }\n",
       "</style>\n",
       "<table border=\"1\" class=\"dataframe\">\n",
       "  <thead>\n",
       "    <tr style=\"text-align: right;\">\n",
       "      <th></th>\n",
       "      <th>UTR</th>\n",
       "      <th>seq</th>\n",
       "      <th>Transcript</th>\n",
       "      <th>Gene</th>\n",
       "      <th>Start</th>\n",
       "      <th>End</th>\n",
       "      <th>Length</th>\n",
       "      <th>Strand</th>\n",
       "      <th>Chrom</th>\n",
       "    </tr>\n",
       "  </thead>\n",
       "  <tbody>\n",
       "    <tr>\n",
       "      <th>0</th>\n",
       "      <td>five_prime_utr</td>\n",
       "      <td>CTTTCCGCCCGGCTCCTTCAGAGGCCCGGCGACCTCCAGGGCTGGG...</td>\n",
       "      <td>ENST00000524270</td>\n",
       "      <td>SPSB2</td>\n",
       "      <td>6873303</td>\n",
       "      <td>6873246</td>\n",
       "      <td>58</td>\n",
       "      <td>-</td>\n",
       "      <td>12</td>\n",
       "    </tr>\n",
       "    <tr>\n",
       "      <th>1</th>\n",
       "      <td>five_prime_utr</td>\n",
       "      <td>CTCCCTTCCAGGTCAATCCAAACTGGAGCTCAACTTTCAGAAGAGA...</td>\n",
       "      <td>ENST00000524270</td>\n",
       "      <td>SPSB2</td>\n",
       "      <td>6872997</td>\n",
       "      <td>6872902</td>\n",
       "      <td>96</td>\n",
       "      <td>-</td>\n",
       "      <td>12</td>\n",
       "    </tr>\n",
       "    <tr>\n",
       "      <th>2</th>\n",
       "      <td>three_prime_utr</td>\n",
       "      <td>GCCCTGTGATACCACAGACTGTGCTGAGGTCTTGCCACCACCCCTC...</td>\n",
       "      <td>ENST00000524270</td>\n",
       "      <td>SPSB2</td>\n",
       "      <td>6871191</td>\n",
       "      <td>6870935</td>\n",
       "      <td>257</td>\n",
       "      <td>-</td>\n",
       "      <td>12</td>\n",
       "    </tr>\n",
       "    <tr>\n",
       "      <th>3</th>\n",
       "      <td>five_prime_utr</td>\n",
       "      <td>CAGAGGCCCGGCGACCTCCAGGGCTGGGAAGTCAACCGAGGTTCGG...</td>\n",
       "      <td>ENST00000523102</td>\n",
       "      <td>SPSB2</td>\n",
       "      <td>6873285</td>\n",
       "      <td>6873215</td>\n",
       "      <td>71</td>\n",
       "      <td>-</td>\n",
       "      <td>12</td>\n",
       "    </tr>\n",
       "    <tr>\n",
       "      <th>4</th>\n",
       "      <td>five_prime_utr</td>\n",
       "      <td>GTCAATCCAAACTGGAGCTCAACTTTCAGAAGAGAAAGACGCCCCA...</td>\n",
       "      <td>ENST00000523102</td>\n",
       "      <td>SPSB2</td>\n",
       "      <td>6872986</td>\n",
       "      <td>6872902</td>\n",
       "      <td>85</td>\n",
       "      <td>-</td>\n",
       "      <td>12</td>\n",
       "    </tr>\n",
       "    <tr>\n",
       "      <th>...</th>\n",
       "      <td>...</td>\n",
       "      <td>...</td>\n",
       "      <td>...</td>\n",
       "      <td>...</td>\n",
       "      <td>...</td>\n",
       "      <td>...</td>\n",
       "      <td>...</td>\n",
       "      <td>...</td>\n",
       "      <td>...</td>\n",
       "    </tr>\n",
       "    <tr>\n",
       "      <th>374700</th>\n",
       "      <td>three_prime_utr</td>\n",
       "      <td>CCCCACCTCCGCCCGGACCCCCACAGACCTCGGGAAGGCGCTGGGC...</td>\n",
       "      <td>ENST00000397325</td>\n",
       "      <td>GALNT9</td>\n",
       "      <td>132197106</td>\n",
       "      <td>132196372</td>\n",
       "      <td>735</td>\n",
       "      <td>-</td>\n",
       "      <td>12</td>\n",
       "    </tr>\n",
       "    <tr>\n",
       "      <th>374701</th>\n",
       "      <td>five_prime_utr</td>\n",
       "      <td>CTACCTGAAAACTTTTGTTCCTATGCATAAAG</td>\n",
       "      <td>ENST00000368916</td>\n",
       "      <td>GABPB2</td>\n",
       "      <td>151088158</td>\n",
       "      <td>151088189</td>\n",
       "      <td>32</td>\n",
       "      <td>+</td>\n",
       "      <td>1</td>\n",
       "    </tr>\n",
       "    <tr>\n",
       "      <th>374702</th>\n",
       "      <td>three_prime_utr</td>\n",
       "      <td>TATGCAAGGGCCACAATTTGCACTGTGTTCATATTAATCCTCTTTT...</td>\n",
       "      <td>ENST00000368916</td>\n",
       "      <td>GABPB2</td>\n",
       "      <td>151118257</td>\n",
       "      <td>151118671</td>\n",
       "      <td>415</td>\n",
       "      <td>+</td>\n",
       "      <td>1</td>\n",
       "    </tr>\n",
       "    <tr>\n",
       "      <th>374703</th>\n",
       "      <td>five_prime_utr</td>\n",
       "      <td>GCCATTTTGTTGCCTCTGTTTCTCCACGAGGGGGGGTTAAAGGCCC...</td>\n",
       "      <td>ENST00000368918</td>\n",
       "      <td>GABPB2</td>\n",
       "      <td>151070761</td>\n",
       "      <td>151070934</td>\n",
       "      <td>174</td>\n",
       "      <td>+</td>\n",
       "      <td>1</td>\n",
       "    </tr>\n",
       "    <tr>\n",
       "      <th>374704</th>\n",
       "      <td>three_prime_utr</td>\n",
       "      <td>TATGCAAGGGCCACAATTTGCACTGTGTTCATATTAATCCTCTTTT...</td>\n",
       "      <td>ENST00000368918</td>\n",
       "      <td>GABPB2</td>\n",
       "      <td>151118257</td>\n",
       "      <td>151125542</td>\n",
       "      <td>7286</td>\n",
       "      <td>+</td>\n",
       "      <td>1</td>\n",
       "    </tr>\n",
       "  </tbody>\n",
       "</table>\n",
       "<p>374705 rows × 9 columns</p>\n",
       "</div>"
      ],
      "text/plain": [
       "                    UTR                                                seq  \\\n",
       "0        five_prime_utr  CTTTCCGCCCGGCTCCTTCAGAGGCCCGGCGACCTCCAGGGCTGGG...   \n",
       "1        five_prime_utr  CTCCCTTCCAGGTCAATCCAAACTGGAGCTCAACTTTCAGAAGAGA...   \n",
       "2       three_prime_utr  GCCCTGTGATACCACAGACTGTGCTGAGGTCTTGCCACCACCCCTC...   \n",
       "3        five_prime_utr  CAGAGGCCCGGCGACCTCCAGGGCTGGGAAGTCAACCGAGGTTCGG...   \n",
       "4        five_prime_utr  GTCAATCCAAACTGGAGCTCAACTTTCAGAAGAGAAAGACGCCCCA...   \n",
       "...                 ...                                                ...   \n",
       "374700  three_prime_utr  CCCCACCTCCGCCCGGACCCCCACAGACCTCGGGAAGGCGCTGGGC...   \n",
       "374701   five_prime_utr                   CTACCTGAAAACTTTTGTTCCTATGCATAAAG   \n",
       "374702  three_prime_utr  TATGCAAGGGCCACAATTTGCACTGTGTTCATATTAATCCTCTTTT...   \n",
       "374703   five_prime_utr  GCCATTTTGTTGCCTCTGTTTCTCCACGAGGGGGGGTTAAAGGCCC...   \n",
       "374704  three_prime_utr  TATGCAAGGGCCACAATTTGCACTGTGTTCATATTAATCCTCTTTT...   \n",
       "\n",
       "             Transcript    Gene      Start        End  Length Strand Chrom  \n",
       "0       ENST00000524270   SPSB2    6873303    6873246      58      -    12  \n",
       "1       ENST00000524270   SPSB2    6872997    6872902      96      -    12  \n",
       "2       ENST00000524270   SPSB2    6871191    6870935     257      -    12  \n",
       "3       ENST00000523102   SPSB2    6873285    6873215      71      -    12  \n",
       "4       ENST00000523102   SPSB2    6872986    6872902      85      -    12  \n",
       "...                 ...     ...        ...        ...     ...    ...   ...  \n",
       "374700  ENST00000397325  GALNT9  132197106  132196372     735      -    12  \n",
       "374701  ENST00000368916  GABPB2  151088158  151088189      32      +     1  \n",
       "374702  ENST00000368916  GABPB2  151118257  151118671     415      +     1  \n",
       "374703  ENST00000368918  GABPB2  151070761  151070934     174      +     1  \n",
       "374704  ENST00000368918  GABPB2  151118257  151125542    7286      +     1  \n",
       "\n",
       "[374705 rows x 9 columns]"
      ]
     },
     "execution_count": 37,
     "metadata": {},
     "output_type": "execute_result"
    }
   ],
   "source": [
    "utr_df"
   ]
  },
  {
   "cell_type": "code",
   "execution_count": 43,
   "metadata": {},
   "outputs": [
    {
     "data": {
      "text/html": [
       "<div>\n",
       "<style scoped>\n",
       "    .dataframe tbody tr th:only-of-type {\n",
       "        vertical-align: middle;\n",
       "    }\n",
       "\n",
       "    .dataframe tbody tr th {\n",
       "        vertical-align: top;\n",
       "    }\n",
       "\n",
       "    .dataframe thead th {\n",
       "        text-align: right;\n",
       "    }\n",
       "</style>\n",
       "<table border=\"1\" class=\"dataframe\">\n",
       "  <thead>\n",
       "    <tr style=\"text-align: right;\">\n",
       "      <th></th>\n",
       "      <th>UTR</th>\n",
       "      <th>seq</th>\n",
       "      <th>Transcript</th>\n",
       "      <th>Gene</th>\n",
       "      <th>Start</th>\n",
       "      <th>End</th>\n",
       "      <th>Length</th>\n",
       "      <th>Strand</th>\n",
       "      <th>Chrom</th>\n",
       "    </tr>\n",
       "  </thead>\n",
       "  <tbody>\n",
       "    <tr>\n",
       "      <th>0</th>\n",
       "      <td>five_prime_utr</td>\n",
       "      <td>CTTTCCGCCCGGCTCCTTCAGAGGCCCGGCGACCTCCAGGGCTGGG...</td>\n",
       "      <td>ENST00000524270</td>\n",
       "      <td>SPSB2</td>\n",
       "      <td>6873303</td>\n",
       "      <td>6873246</td>\n",
       "      <td>58</td>\n",
       "      <td>-</td>\n",
       "      <td>12</td>\n",
       "    </tr>\n",
       "    <tr>\n",
       "      <th>1</th>\n",
       "      <td>five_prime_utr</td>\n",
       "      <td>CTCCCTTCCAGGTCAATCCAAACTGGAGCTCAACTTTCAGAAGAGA...</td>\n",
       "      <td>ENST00000524270</td>\n",
       "      <td>SPSB2</td>\n",
       "      <td>6872997</td>\n",
       "      <td>6872902</td>\n",
       "      <td>96</td>\n",
       "      <td>-</td>\n",
       "      <td>12</td>\n",
       "    </tr>\n",
       "    <tr>\n",
       "      <th>2</th>\n",
       "      <td>three_prime_utr</td>\n",
       "      <td>GCCCTGTGATACCACAGACTGTGCTGAGGTCTTGCCACCACCCCTC...</td>\n",
       "      <td>ENST00000524270</td>\n",
       "      <td>SPSB2</td>\n",
       "      <td>6871191</td>\n",
       "      <td>6870935</td>\n",
       "      <td>257</td>\n",
       "      <td>-</td>\n",
       "      <td>12</td>\n",
       "    </tr>\n",
       "    <tr>\n",
       "      <th>3</th>\n",
       "      <td>five_prime_utr</td>\n",
       "      <td>CAGAGGCCCGGCGACCTCCAGGGCTGGGAAGTCAACCGAGGTTCGG...</td>\n",
       "      <td>ENST00000523102</td>\n",
       "      <td>SPSB2</td>\n",
       "      <td>6873285</td>\n",
       "      <td>6873215</td>\n",
       "      <td>71</td>\n",
       "      <td>-</td>\n",
       "      <td>12</td>\n",
       "    </tr>\n",
       "    <tr>\n",
       "      <th>4</th>\n",
       "      <td>five_prime_utr</td>\n",
       "      <td>GTCAATCCAAACTGGAGCTCAACTTTCAGAAGAGAAAGACGCCCCA...</td>\n",
       "      <td>ENST00000523102</td>\n",
       "      <td>SPSB2</td>\n",
       "      <td>6872986</td>\n",
       "      <td>6872902</td>\n",
       "      <td>85</td>\n",
       "      <td>-</td>\n",
       "      <td>12</td>\n",
       "    </tr>\n",
       "    <tr>\n",
       "      <th>...</th>\n",
       "      <td>...</td>\n",
       "      <td>...</td>\n",
       "      <td>...</td>\n",
       "      <td>...</td>\n",
       "      <td>...</td>\n",
       "      <td>...</td>\n",
       "      <td>...</td>\n",
       "      <td>...</td>\n",
       "      <td>...</td>\n",
       "    </tr>\n",
       "    <tr>\n",
       "      <th>374700</th>\n",
       "      <td>three_prime_utr</td>\n",
       "      <td>CCCCACCTCCGCCCGGACCCCCACAGACCTCGGGAAGGCGCTGGGC...</td>\n",
       "      <td>ENST00000397325</td>\n",
       "      <td>GALNT9</td>\n",
       "      <td>132197106</td>\n",
       "      <td>132196372</td>\n",
       "      <td>735</td>\n",
       "      <td>-</td>\n",
       "      <td>12</td>\n",
       "    </tr>\n",
       "    <tr>\n",
       "      <th>374701</th>\n",
       "      <td>five_prime_utr</td>\n",
       "      <td>CTACCTGAAAACTTTTGTTCCTATGCATAAAG</td>\n",
       "      <td>ENST00000368916</td>\n",
       "      <td>GABPB2</td>\n",
       "      <td>151088158</td>\n",
       "      <td>151088189</td>\n",
       "      <td>32</td>\n",
       "      <td>+</td>\n",
       "      <td>1</td>\n",
       "    </tr>\n",
       "    <tr>\n",
       "      <th>374702</th>\n",
       "      <td>three_prime_utr</td>\n",
       "      <td>TATGCAAGGGCCACAATTTGCACTGTGTTCATATTAATCCTCTTTT...</td>\n",
       "      <td>ENST00000368916</td>\n",
       "      <td>GABPB2</td>\n",
       "      <td>151118257</td>\n",
       "      <td>151118671</td>\n",
       "      <td>415</td>\n",
       "      <td>+</td>\n",
       "      <td>1</td>\n",
       "    </tr>\n",
       "    <tr>\n",
       "      <th>374703</th>\n",
       "      <td>five_prime_utr</td>\n",
       "      <td>GCCATTTTGTTGCCTCTGTTTCTCCACGAGGGGGGGTTAAAGGCCC...</td>\n",
       "      <td>ENST00000368918</td>\n",
       "      <td>GABPB2</td>\n",
       "      <td>151070761</td>\n",
       "      <td>151070934</td>\n",
       "      <td>174</td>\n",
       "      <td>+</td>\n",
       "      <td>1</td>\n",
       "    </tr>\n",
       "    <tr>\n",
       "      <th>374704</th>\n",
       "      <td>three_prime_utr</td>\n",
       "      <td>TATGCAAGGGCCACAATTTGCACTGTGTTCATATTAATCCTCTTTT...</td>\n",
       "      <td>ENST00000368918</td>\n",
       "      <td>GABPB2</td>\n",
       "      <td>151118257</td>\n",
       "      <td>151125542</td>\n",
       "      <td>7286</td>\n",
       "      <td>+</td>\n",
       "      <td>1</td>\n",
       "    </tr>\n",
       "  </tbody>\n",
       "</table>\n",
       "<p>374705 rows × 9 columns</p>\n",
       "</div>"
      ],
      "text/plain": [
       "                    UTR                                                seq  \\\n",
       "0        five_prime_utr  CTTTCCGCCCGGCTCCTTCAGAGGCCCGGCGACCTCCAGGGCTGGG...   \n",
       "1        five_prime_utr  CTCCCTTCCAGGTCAATCCAAACTGGAGCTCAACTTTCAGAAGAGA...   \n",
       "2       three_prime_utr  GCCCTGTGATACCACAGACTGTGCTGAGGTCTTGCCACCACCCCTC...   \n",
       "3        five_prime_utr  CAGAGGCCCGGCGACCTCCAGGGCTGGGAAGTCAACCGAGGTTCGG...   \n",
       "4        five_prime_utr  GTCAATCCAAACTGGAGCTCAACTTTCAGAAGAGAAAGACGCCCCA...   \n",
       "...                 ...                                                ...   \n",
       "374700  three_prime_utr  CCCCACCTCCGCCCGGACCCCCACAGACCTCGGGAAGGCGCTGGGC...   \n",
       "374701   five_prime_utr                   CTACCTGAAAACTTTTGTTCCTATGCATAAAG   \n",
       "374702  three_prime_utr  TATGCAAGGGCCACAATTTGCACTGTGTTCATATTAATCCTCTTTT...   \n",
       "374703   five_prime_utr  GCCATTTTGTTGCCTCTGTTTCTCCACGAGGGGGGGTTAAAGGCCC...   \n",
       "374704  three_prime_utr  TATGCAAGGGCCACAATTTGCACTGTGTTCATATTAATCCTCTTTT...   \n",
       "\n",
       "             Transcript    Gene      Start        End  Length Strand Chrom  \n",
       "0       ENST00000524270   SPSB2    6873303    6873246      58      -    12  \n",
       "1       ENST00000524270   SPSB2    6872997    6872902      96      -    12  \n",
       "2       ENST00000524270   SPSB2    6871191    6870935     257      -    12  \n",
       "3       ENST00000523102   SPSB2    6873285    6873215      71      -    12  \n",
       "4       ENST00000523102   SPSB2    6872986    6872902      85      -    12  \n",
       "...                 ...     ...        ...        ...     ...    ...   ...  \n",
       "374700  ENST00000397325  GALNT9  132197106  132196372     735      -    12  \n",
       "374701  ENST00000368916  GABPB2  151088158  151088189      32      +     1  \n",
       "374702  ENST00000368916  GABPB2  151118257  151118671     415      +     1  \n",
       "374703  ENST00000368918  GABPB2  151070761  151070934     174      +     1  \n",
       "374704  ENST00000368918  GABPB2  151118257  151125542    7286      +     1  \n",
       "\n",
       "[374705 rows x 9 columns]"
      ]
     },
     "execution_count": 43,
     "metadata": {},
     "output_type": "execute_result"
    }
   ],
   "source": [
    "utr"
   ]
  },
  {
   "cell_type": "code",
   "execution_count": 40,
   "metadata": {},
   "outputs": [
    {
     "data": {
      "text/plain": [
       "<pandas.core.groupby.generic.DataFrameGroupBy object at 0x7ff590133af0>"
      ]
     },
     "execution_count": 40,
     "metadata": {},
     "output_type": "execute_result"
    }
   ],
   "source": []
  },
  {
   "cell_type": "code",
   "execution_count": 7,
   "metadata": {},
   "outputs": [
    {
     "name": "stdout",
     "output_type": "stream",
     "text": [
      "{'version': 3, 'release': '75', 'type': 'Transcript', 'id': 'ENST00000305910', 'peptide': None, 'is_current': '', 'possible_replacement': [{'stable_id': 'ENST00000612966', 'score': 0.933941}, {'score': 0.931663, 'stable_id': 'ENST00000613854'}, {'stable_id': 'ENST00000614911', 'score': 0.931663}, {'score': 0.933941, 'stable_id': 'ENST00000616365'}, {'stable_id': 'ENST00000618052', 'score': 0.933941}, {'score': 0.933941, 'stable_id': 'ENST00000621411'}], 'latest': 'ENST00000305910.3', 'assembly': 'GRCh37'}\n"
     ]
    }
   ],
   "source": [
    "import requests, sys\n",
    " \n",
    "server = \"https://rest.ensembl.org\"\n",
    "ext = \"/archive/id/ENST00000305910?\"\n",
    " \n",
    "r = requests.get(server+ext, headers={ \"Content-Type\" : \"application/json\"})\n",
    " \n",
    "if not r.ok:\n",
    "  r.raise_for_status()\n",
    "  sys.exit()\n",
    " \n",
    "decoded = r.json()\n",
    "print(repr(decoded))"
   ]
  },
  {
   "cell_type": "code",
   "execution_count": 9,
   "metadata": {},
   "outputs": [
    {
     "data": {
      "text/plain": [
       "[{'stable_id': 'ENST00000612966', 'score': 0.933941},\n",
       " {'score': 0.931663, 'stable_id': 'ENST00000613854'},\n",
       " {'stable_id': 'ENST00000614911', 'score': 0.931663},\n",
       " {'score': 0.933941, 'stable_id': 'ENST00000616365'},\n",
       " {'stable_id': 'ENST00000618052', 'score': 0.933941},\n",
       " {'score': 0.933941, 'stable_id': 'ENST00000621411'}]"
      ]
     },
     "execution_count": 9,
     "metadata": {},
     "output_type": "execute_result"
    }
   ],
   "source": [
    "decoded[\"possible_replacement\"]"
   ]
  },
  {
   "cell_type": "code",
   "execution_count": null,
   "metadata": {},
   "outputs": [],
   "source": []
  }
 ],
 "metadata": {
  "kernelspec": {
   "display_name": "base",
   "language": "python",
   "name": "python3"
  },
  "language_info": {
   "codemirror_mode": {
    "name": "ipython",
    "version": 3
   },
   "file_extension": ".py",
   "mimetype": "text/x-python",
   "name": "python",
   "nbconvert_exporter": "python",
   "pygments_lexer": "ipython3",
   "version": "3.9.12 (main, Apr  5 2022, 06:56:58) \n[GCC 7.5.0]"
  },
  "orig_nbformat": 4,
  "vscode": {
   "interpreter": {
    "hash": "49d24ce93f3eb4d553d4aede1ff46408b7a8cdb716015b5b344f84e97667a415"
   }
  }
 },
 "nbformat": 4,
 "nbformat_minor": 2
}
